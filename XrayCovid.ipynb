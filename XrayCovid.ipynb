{
  "nbformat": 4,
  "nbformat_minor": 0,
  "metadata": {
    "colab": {
      "name": "XrayCovid",
      "provenance": [],
      "collapsed_sections": [],
      "authorship_tag": "ABX9TyMgkFEpuDgPZ0pFl37+NebF",
      "include_colab_link": true
    },
    "kernelspec": {
      "name": "python3",
      "display_name": "Python 3"
    },
    "language_info": {
      "name": "python"
    }
  },
  "cells": [
    {
      "cell_type": "markdown",
      "metadata": {
        "id": "view-in-github",
        "colab_type": "text"
      },
      "source": [
        "<a href=\"https://colab.research.google.com/github/maurowelzel/ColaSolucin/blob/master/XrayCovid.ipynb\" target=\"_parent\"><img src=\"https://colab.research.google.com/assets/colab-badge.svg\" alt=\"Open In Colab\"/></a>"
      ]
    },
    {
      "cell_type": "markdown",
      "metadata": {
        "id": "MxwsMOx002TI"
      },
      "source": [
        "\n",
        "# Librerias y cargar datos\n",
        "\n"
      ]
    },
    {
      "cell_type": "code",
      "metadata": {
        "id": "5qrNqOzhcacx"
      },
      "source": [
        "#Librerias\n",
        "import numpy as np\n",
        "import matplotlib.pyplot as plt \n",
        "\n",
        "import keras\n",
        "from keras.layers import Dense, Conv2D, MaxPool2D, Dropout, Flatten\n",
        "from keras.models import Sequential\n",
        "from keras.preprocessing import image\n"
      ],
      "execution_count": 1,
      "outputs": []
    },
    {
      "cell_type": "code",
      "metadata": {
        "id": "iNtAhbJKlI_M",
        "colab": {
          "base_uri": "https://localhost:8080/"
        },
        "outputId": "89839592-7e22-4bb8-975a-ea0892d32fa8"
      },
      "source": [
        "#Posicionando y haciendo escala de los pixeles de la imagen \n",
        "\n",
        "train_datagen = image.ImageDataGenerator(\n",
        "    rescale = 1/255,horizontal_flip = True , zoom_range = 0.2, shear_range = 0.2  \n",
        ")\n",
        "#Llamando al dataset entrenamiento\n",
        "\n",
        "train_data = train_datagen.flow_from_directory(directory=\"/content/CovidDataset/Entrenamiento\", target_size=(256,256), batch_size= 16, class_mode= 'binary')\n"
      ],
      "execution_count": 2,
      "outputs": [
        {
          "output_type": "stream",
          "text": [
            "Found 4507 images belonging to 2 classes.\n"
          ],
          "name": "stdout"
        }
      ]
    },
    {
      "cell_type": "code",
      "metadata": {
        "colab": {
          "base_uri": "https://localhost:8080/"
        },
        "id": "C7KTnW7PwRya",
        "outputId": "805fda53-5eac-476d-908c-f127fb23544f"
      },
      "source": [
        "train_data.class_indices"
      ],
      "execution_count": 3,
      "outputs": [
        {
          "output_type": "execute_result",
          "data": {
            "text/plain": [
              "{'Covid': 0, 'Normal': 1}"
            ]
          },
          "metadata": {
            "tags": []
          },
          "execution_count": 3
        }
      ]
    },
    {
      "cell_type": "code",
      "metadata": {
        "colab": {
          "base_uri": "https://localhost:8080/"
        },
        "id": "I5m618egwbqW",
        "outputId": "fcb92327-e77b-4188-87d2-256a94fa3382"
      },
      "source": [
        "#Llamando el validar\n",
        "#Solo ponemos en escala las imagenes\n",
        "test_datagen = image.ImageDataGenerator(\n",
        "    rescale = 1/255 \n",
        ")\n",
        "#Llamando el dataset validar\n",
        "\n",
        "test_data = test_datagen.flow_from_directory(directory=\"/content/CovidDataset/Validar\", target_size=(256,256), batch_size= 16, class_mode= 'binary')\n"
      ],
      "execution_count": 4,
      "outputs": [
        {
          "output_type": "stream",
          "text": [
            "Found 2222 images belonging to 2 classes.\n"
          ],
          "name": "stdout"
        }
      ]
    },
    {
      "cell_type": "markdown",
      "metadata": {
        "id": "300JahYU3Aip"
      },
      "source": [
        "# Red neuronal"
      ]
    },
    {
      "cell_type": "code",
      "metadata": {
        "id": "9ptMEk5N6sj4"
      },
      "source": [
        "model = Sequential()\n",
        "model.add(Conv2D(filters= 32, kernel_size=(3,3), activation='relu', input_shape = (256,256,3)))\n",
        "\n",
        "model.add(Conv2D(filters= 64, kernel_size=(3,3), activation='relu'))\n",
        "model.add(MaxPool2D())\n",
        "model.add(Dropout(rate=0.25))\n",
        "\n",
        "#Cambiando numero de filtros\n",
        "model.add(Conv2D(filters= 64, kernel_size=(3,3), activation='relu'))\n",
        "model.add(MaxPool2D())\n",
        "model.add(Dropout(rate=0.25))\n",
        "\n",
        "model.add(Conv2D(filters= 128, kernel_size=(3,3), activation='relu'))\n",
        "model.add(MaxPool2D())\n",
        "model.add(Dropout(rate=0.25))\n",
        "\n",
        "#Aplanando la capa\n",
        "\n",
        "model.add(Flatten())\n",
        "model.add(Dense(units= 64, activation='relu'))\n",
        "model.add(Dropout(rate=0.50))\n",
        "model.add(Dense(units=1, activation='sigmoid'))\n",
        "\n",
        "model.compile(loss=keras.losses.binary_crossentropy, optimizer= \"adam\", metrics = ['acc'])\n"
      ],
      "execution_count": 5,
      "outputs": []
    },
    {
      "cell_type": "code",
      "metadata": {
        "colab": {
          "base_uri": "https://localhost:8080/"
        },
        "id": "3fG_Wdra9x3D",
        "outputId": "453127cf-f5cd-4fa8-ec64-7e11057c9b9e"
      },
      "source": [
        "#Entrena y valida \n",
        "\n",
        "model.fit_generator(train_data,steps_per_epoch= 5, epochs= 10, validation_steps= 2, validation_data= test_data)"
      ],
      "execution_count": 6,
      "outputs": [
        {
          "output_type": "stream",
          "text": [
            "/usr/local/lib/python3.7/dist-packages/keras/engine/training.py:1915: UserWarning: `Model.fit_generator` is deprecated and will be removed in a future version. Please use `Model.fit`, which supports generators.\n",
            "  warnings.warn('`Model.fit_generator` is deprecated and '\n"
          ],
          "name": "stderr"
        },
        {
          "output_type": "stream",
          "text": [
            "Epoch 1/10\n",
            "5/5 [==============================] - 51s 7s/step - loss: 2.9604 - acc: 0.4943 - val_loss: 0.6947 - val_acc: 0.4688\n",
            "Epoch 2/10\n",
            "5/5 [==============================] - 33s 7s/step - loss: 0.7753 - acc: 0.5038 - val_loss: 0.7005 - val_acc: 0.3750\n",
            "Epoch 3/10\n",
            "5/5 [==============================] - 33s 7s/step - loss: 0.6709 - acc: 0.6483 - val_loss: 0.7169 - val_acc: 0.4375\n",
            "Epoch 4/10\n",
            "5/5 [==============================] - 33s 7s/step - loss: 0.6926 - acc: 0.5656 - val_loss: 0.7085 - val_acc: 0.4688\n",
            "Epoch 5/10\n",
            "5/5 [==============================] - 33s 7s/step - loss: 0.7057 - acc: 0.4783 - val_loss: 0.6931 - val_acc: 0.5312\n",
            "Epoch 6/10\n",
            "5/5 [==============================] - 33s 7s/step - loss: 0.6947 - acc: 0.4745 - val_loss: 0.6929 - val_acc: 0.6562\n",
            "Epoch 7/10\n",
            "5/5 [==============================] - 33s 7s/step - loss: 0.6920 - acc: 0.5099 - val_loss: 0.6933 - val_acc: 0.4062\n",
            "Epoch 8/10\n",
            "5/5 [==============================] - 33s 7s/step - loss: 0.6788 - acc: 0.6939 - val_loss: 0.7459 - val_acc: 0.3750\n",
            "Epoch 9/10\n",
            "5/5 [==============================] - 33s 7s/step - loss: 0.6673 - acc: 0.5703 - val_loss: 0.7109 - val_acc: 0.4062\n",
            "Epoch 10/10\n",
            "5/5 [==============================] - 33s 7s/step - loss: 0.7056 - acc: 0.5509 - val_loss: 0.6933 - val_acc: 0.4688\n"
          ],
          "name": "stdout"
        },
        {
          "output_type": "execute_result",
          "data": {
            "text/plain": [
              "<keras.callbacks.History at 0x7f353919bfd0>"
            ]
          },
          "metadata": {
            "tags": []
          },
          "execution_count": 6
        }
      ]
    },
    {
      "cell_type": "code",
      "metadata": {
        "colab": {
          "base_uri": "https://localhost:8080/"
        },
        "id": "PqYrV2DxBWSk",
        "outputId": "de53fdea-85d9-47db-c613-1aab8cfc918f"
      },
      "source": [
        "#Subir imagenes \n",
        "path = \"/content/XrayProject/Random/COVID-3592.png\"\n",
        "img = image.load_img(path, target_size=(256,256))\n",
        "\n",
        "img = image.img_to_array(img)/255\n",
        "img = np.array([img])\n",
        "img.shape"
      ],
      "execution_count": 21,
      "outputs": [
        {
          "output_type": "execute_result",
          "data": {
            "text/plain": [
              "(1, 256, 256, 3)"
            ]
          },
          "metadata": {
            "tags": []
          },
          "execution_count": 21
        }
      ]
    },
    {
      "cell_type": "code",
      "metadata": {
        "colab": {
          "base_uri": "https://localhost:8080/"
        },
        "id": "El__CdSGCF6R",
        "outputId": "ca4f91fc-4db9-4884-9efd-7e8cb86e6feb"
      },
      "source": [
        "#Predecir imagenes\n",
        "\n",
        "model.predict_classes(img)"
      ],
      "execution_count": 22,
      "outputs": [
        {
          "output_type": "stream",
          "text": [
            "/usr/local/lib/python3.7/dist-packages/keras/engine/sequential.py:450: UserWarning: `model.predict_classes()` is deprecated and will be removed after 2021-01-01. Please use instead:* `np.argmax(model.predict(x), axis=-1)`,   if your model does multi-class classification   (e.g. if it uses a `softmax` last-layer activation).* `(model.predict(x) > 0.5).astype(\"int32\")`,   if your model does binary classification   (e.g. if it uses a `sigmoid` last-layer activation).\n",
            "  warnings.warn('`model.predict_classes()` is deprecated and '\n"
          ],
          "name": "stderr"
        },
        {
          "output_type": "execute_result",
          "data": {
            "text/plain": [
              "array([[0]], dtype=int32)"
            ]
          },
          "metadata": {
            "tags": []
          },
          "execution_count": 22
        }
      ]
    }
  ]
}